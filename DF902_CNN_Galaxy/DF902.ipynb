{
 "cells": [
  {
   "cell_type": "markdown",
   "metadata": {},
   "source": [
    "# DF902 딥러닝으로 은하분류하기"
   ]
  },
  {
   "cell_type": "markdown",
   "metadata": {},
   "source": [
    "## 01. 패키지불러오기"
   ]
  },
  {
   "cell_type": "code",
   "execution_count": 1,
   "metadata": {},
   "outputs": [
    {
     "name": "stderr",
     "output_type": "stream",
     "text": [
      "Using TensorFlow backend.\n"
     ]
    }
   ],
   "source": [
    "# 패키지 불러오기\n",
    "\n",
    "import numpy as np\n",
    "from keras.models import Sequential\n",
    "from keras.layers import Dense \n",
    "from keras.layers import Activation\n",
    "from keras.layers.convolutional import Conv2D \n",
    "from keras.layers.convolutional import MaxPooling2D \n",
    "from keras.layers import Flatten\n",
    "from keras.preprocessing.image import ImageDataGenerator"
   ]
  },
  {
   "cell_type": "markdown",
   "metadata": {},
   "source": [
    "- Dense() : 전결합층(fully-conntected layer)을 통과한 출력(output) 레이어\n",
    "- Conv2D() : 필터로 특징을 뽑아주는 컨볼루션(Convolution) 레이어\n",
    "- MaxPooling2D() : 사소한 변화를 무시해주는 맥스풀링(Max Pooling) 레이어\n",
    "- Flatten() : 영상을 일차원으로 바꿔주는 플래튼(Flatten) 레이어\""
   ]
  },
  {
   "cell_type": "code",
   "execution_count": null,
   "metadata": {},
   "outputs": [],
   "source": []
  },
  {
   "cell_type": "code",
   "execution_count": 2,
   "metadata": {},
   "outputs": [],
   "source": [
    "# 랜덤시드 고정\n",
    "\n",
    "np.random.seed(3)"
   ]
  },
  {
   "cell_type": "code",
   "execution_count": 3,
   "metadata": {},
   "outputs": [
    {
     "name": "stdout",
     "output_type": "stream",
     "text": [
      "Found 10233 images belonging to 3 classes.\n",
      "Found 600 images belonging to 3 classes.\n",
      "Found 600 images belonging to 3 classes.\n"
     ]
    }
   ],
   "source": [
    "# 데이터 생성\n",
    "# ImageDataGenerator를 쓰는이유\n",
    "# 사진의 크기 rescale,0~255의 픽셀값을 0~1로 조정 (신경망에서는 작은 입력값을 선호하기 때문)\n",
    "# RGB픽셀값으로 읽음,부동소수타입의 텐서\n",
    "\n",
    "train_datagen = ImageDataGenerator(rescale=1./255)\n",
    "val_datagen = ImageDataGenerator(rescale=1./255)\n",
    "test_datagen = ImageDataGenerator(rescale=1./255)\n",
    "\n",
    "train_generator = train_datagen.flow_from_directory(\n",
    "    '/Users/hyunji/Dafit/DF902_CNN_ClassifyGalaxies/DF902_Data_Galaxy_Resize/train_galaxy',\n",
    "    target_size=(50, 50),\n",
    "    batch_size=3,\n",
    "    class_mode='categorical')\n",
    "\n",
    "val_generator = val_datagen.flow_from_directory(\n",
    "    '/Users/hyunji/Dafit/DF902_CNN_ClassifyGalaxies/DF902_Data_Galaxy_Resize/val_galaxy',\n",
    "    target_size=(50, 50),\n",
    "    batch_size=3,\n",
    "    class_mode='categorical')\n",
    "\n",
    "test_generator = test_datagen.flow_from_directory(\n",
    "    '/Users/hyunji/Dafit/DF902_CNN_ClassifyGalaxies/DF902_Data_Galaxy_Resize/test_galaxy',\n",
    "    target_size=(50, 50),\n",
    "    batch_size=3,\n",
    "    class_mode='categorical')"
   ]
  },
  {
   "cell_type": "code",
   "execution_count": 4,
   "metadata": {},
   "outputs": [
    {
     "data": {
      "text/plain": [
       "<keras.preprocessing.image.DirectoryIterator at 0x63372fe10>"
      ]
     },
     "execution_count": 4,
     "metadata": {},
     "output_type": "execute_result"
    }
   ],
   "source": [
    "train_generator"
   ]
  },
  {
   "cell_type": "code",
   "execution_count": null,
   "metadata": {},
   "outputs": [],
   "source": []
  },
  {
   "cell_type": "code",
   "execution_count": 5,
   "metadata": {},
   "outputs": [
    {
     "name": "stdout",
     "output_type": "stream",
     "text": [
      "Model: \"sequential_1\"\n",
      "_________________________________________________________________\n",
      "Layer (type)                 Output Shape              Param #   \n",
      "=================================================================\n",
      "conv2d_1 (Conv2D)            (None, 25, 25, 32)        896       \n",
      "_________________________________________________________________\n",
      "max_pooling2d_1 (MaxPooling2 (None, 12, 12, 32)        0         \n",
      "_________________________________________________________________\n",
      "conv2d_2 (Conv2D)            (None, 6, 6, 64)          18496     \n",
      "_________________________________________________________________\n",
      "max_pooling2d_2 (MaxPooling2 (None, 3, 3, 64)          0         \n",
      "_________________________________________________________________\n",
      "flatten_1 (Flatten)          (None, 576)               0         \n",
      "_________________________________________________________________\n",
      "dense_1 (Dense)              (None, 128)               73856     \n",
      "_________________________________________________________________\n",
      "dense_2 (Dense)              (None, 3)                 387       \n",
      "=================================================================\n",
      "Total params: 93,635\n",
      "Trainable params: 93,635\n",
      "Non-trainable params: 0\n",
      "_________________________________________________________________\n"
     ]
    }
   ],
   "source": [
    "# 모델 구성\n",
    "\n",
    "#from keras.models import Sequential\n",
    "#from keras.layers import Dense,Activation,Conv2D,MaxPooling2D,Flatten\n",
    "\n",
    "model = Sequential()\n",
    "#filters=32, kernel_size=(3,3)\n",
    "model.add(Conv2D(32, (3, 3), activation='relu', input_shape=(50, 50, 3), strides=2, padding='same'))\n",
    "model.add(MaxPooling2D(2, 2))\n",
    "model.add(Conv2D(64, (3, 3), activation='relu', strides=2, padding='same'))\n",
    "model.add(MaxPooling2D(2, 2))\n",
    "model.add(Flatten())\n",
    "model.add(Dense(128, activation='relu'))\n",
    "model.add(Dense(3, activation='softmax'))\n",
    "\n",
    "model.summary()"
   ]
  },
  {
   "cell_type": "markdown",
   "metadata": {},
   "source": [
    "- relu: relu()는 활성화함수 중 하나로 입력이 0 이상이면 그대로, 0 이하면 0 출력하는 함수 입니다. 기울기소실의 문제 보완해주고 계산이 빠르나 정보손실의 문제가 발생한다는 단점이 있습니다.\n",
    "\n",
    "- softmax: softmax()는 활성화함수 중 하나로 출력값을 0~1사이의 값으로 정규화해주는 함수입니다. 또한 출력값들의 총합은 1이 되기 때문에 출력값을 확률로 해석할 수 있다는 성질이 있습니다. 오버피팅의 문제가 발생할 수 있다는 단점이 있습니다."
   ]
  },
  {
   "cell_type": "code",
   "execution_count": null,
   "metadata": {},
   "outputs": [],
   "source": []
  },
  {
   "cell_type": "code",
   "execution_count": 6,
   "metadata": {},
   "outputs": [],
   "source": [
    "# 모델 학습과정 설정\n",
    "\n",
    "model.compile(loss='categorical_crossentropy', \n",
    "              optimizer='adam', metrics=['accuracy'])"
   ]
  },
  {
   "cell_type": "markdown",
   "metadata": {},
   "source": [
    "- loss: 손실 함수는 학습을 통해 얻은 데이터의 추정치가 실제 데이터와 얼마나 차이나는지 평가하는 지표로 쓰입니다. 이 값이 0 에 가까울수록 '무손실' 즉 완벽하게 추정할 수 있다는 의미가 됩니다. 손실함수의 종류는 크게 MSE(Mean of Squared Error)와 크로스 엔트로피가 있으며, 크로스 에트로피는 이른바 원-핫 코딩을 할 때 유효한 수단이 되며, 주로 분류 문제에 사용됩니다.\n",
    " \n",
    "- optimizer: 로컬미니마와 플래튜 문제를 해결하기 위해 사용되는 방법으로 옵티마이저는 학습을 빠르고 안정적으로 하는 최적화방법입니다.Adam은 방향성과 스텝사이즈를 고려하는 옵티마이져로 최근 가장 많이 사용되는 방법입니다.\n"
   ]
  },
  {
   "cell_type": "code",
   "execution_count": null,
   "metadata": {},
   "outputs": [],
   "source": []
  },
  {
   "cell_type": "code",
   "execution_count": 7,
   "metadata": {},
   "outputs": [
    {
     "name": "stdout",
     "output_type": "stream",
     "text": [
      "Epoch 1/50\n",
      "3411/3411 [==============================] - 20s 6ms/step - loss: 0.6739 - accuracy: 0.7141 - val_loss: 0.2220 - val_accuracy: 0.6667\n",
      "Epoch 2/50\n",
      "3411/3411 [==============================] - 18s 5ms/step - loss: 0.5457 - accuracy: 0.7816 - val_loss: 1.7627 - val_accuracy: 0.7500\n",
      "Epoch 3/50\n",
      "3411/3411 [==============================] - 18s 5ms/step - loss: 0.5090 - accuracy: 0.7946 - val_loss: 1.3532 - val_accuracy: 0.6667\n",
      "Epoch 4/50\n",
      "3411/3411 [==============================] - 18s 5ms/step - loss: 0.4705 - accuracy: 0.8139 - val_loss: 0.1402 - val_accuracy: 0.9167\n",
      "Epoch 5/50\n",
      "3411/3411 [==============================] - 19s 5ms/step - loss: 0.4484 - accuracy: 0.8212 - val_loss: 0.2944 - val_accuracy: 0.9167\n",
      "Epoch 6/50\n",
      "3411/3411 [==============================] - 18s 5ms/step - loss: 0.4270 - accuracy: 0.8302 - val_loss: 0.0506 - val_accuracy: 0.7500\n",
      "Epoch 7/50\n",
      "3411/3411 [==============================] - 19s 5ms/step - loss: 0.4032 - accuracy: 0.8364 - val_loss: 0.7645 - val_accuracy: 0.5833\n",
      "Epoch 8/50\n",
      "3411/3411 [==============================] - 19s 6ms/step - loss: 0.3822 - accuracy: 0.8463 - val_loss: 0.0233 - val_accuracy: 0.6667\n",
      "Epoch 9/50\n",
      "3411/3411 [==============================] - 19s 6ms/step - loss: 0.3572 - accuracy: 0.8578 - val_loss: 0.5542 - val_accuracy: 0.8333\n",
      "Epoch 10/50\n",
      "3411/3411 [==============================] - 19s 6ms/step - loss: 0.3401 - accuracy: 0.8635 - val_loss: 0.6544 - val_accuracy: 0.9167\n",
      "Epoch 11/50\n",
      "3411/3411 [==============================] - 20s 6ms/step - loss: 0.3160 - accuracy: 0.8724 - val_loss: 0.0558 - val_accuracy: 1.0000\n",
      "Epoch 12/50\n",
      "3411/3411 [==============================] - 19s 6ms/step - loss: 0.2929 - accuracy: 0.8824 - val_loss: 0.1094 - val_accuracy: 0.9167\n",
      "Epoch 13/50\n",
      "3411/3411 [==============================] - 20s 6ms/step - loss: 0.2743 - accuracy: 0.8918 - val_loss: 0.3612 - val_accuracy: 0.8333\n",
      "Epoch 14/50\n",
      "3411/3411 [==============================] - 19s 5ms/step - loss: 0.2612 - accuracy: 0.8947 - val_loss: 0.2485 - val_accuracy: 0.9167\n",
      "Epoch 15/50\n",
      "3411/3411 [==============================] - 19s 6ms/step - loss: 0.2403 - accuracy: 0.9036 - val_loss: 0.5676 - val_accuracy: 0.9167\n",
      "Epoch 16/50\n",
      "3411/3411 [==============================] - 18s 5ms/step - loss: 0.2249 - accuracy: 0.9063 - val_loss: 0.4085 - val_accuracy: 0.7500\n",
      "Epoch 17/50\n",
      "3411/3411 [==============================] - 19s 5ms/step - loss: 0.2076 - accuracy: 0.9199 - val_loss: 1.2177e-04 - val_accuracy: 0.8333\n",
      "Epoch 18/50\n",
      "3411/3411 [==============================] - 19s 5ms/step - loss: 0.1959 - accuracy: 0.9230 - val_loss: 0.1111 - val_accuracy: 1.0000\n",
      "Epoch 19/50\n",
      "3411/3411 [==============================] - 19s 6ms/step - loss: 0.1707 - accuracy: 0.9296 - val_loss: 0.1805 - val_accuracy: 0.8333\n",
      "Epoch 20/50\n",
      "3411/3411 [==============================] - 19s 6ms/step - loss: 0.1785 - accuracy: 0.9288 - val_loss: 0.0429 - val_accuracy: 0.9167\n",
      "Epoch 21/50\n",
      "3411/3411 [==============================] - 20s 6ms/step - loss: 0.1539 - accuracy: 0.9397 - val_loss: 0.2550 - val_accuracy: 0.7500\n",
      "Epoch 22/50\n",
      "3411/3411 [==============================] - 19s 6ms/step - loss: 0.1418 - accuracy: 0.9432 - val_loss: 0.2830 - val_accuracy: 0.6667\n",
      "Epoch 23/50\n",
      "3411/3411 [==============================] - 19s 6ms/step - loss: 0.1497 - accuracy: 0.9439 - val_loss: 0.0972 - val_accuracy: 0.9167\n",
      "Epoch 24/50\n",
      "3411/3411 [==============================] - 18s 5ms/step - loss: 0.1222 - accuracy: 0.9528 - val_loss: 0.5141 - val_accuracy: 0.7500\n",
      "Epoch 25/50\n",
      "3411/3411 [==============================] - 19s 6ms/step - loss: 0.1244 - accuracy: 0.9541 - val_loss: 0.3190 - val_accuracy: 0.5833\n",
      "Epoch 26/50\n",
      "3411/3411 [==============================] - 19s 5ms/step - loss: 0.1104 - accuracy: 0.9603 - val_loss: 3.5612 - val_accuracy: 0.8333\n",
      "Epoch 27/50\n",
      "3411/3411 [==============================] - 19s 6ms/step - loss: 0.1011 - accuracy: 0.9615 - val_loss: 0.0012 - val_accuracy: 0.9167\n",
      "Epoch 28/50\n",
      "3411/3411 [==============================] - 19s 6ms/step - loss: 0.0913 - accuracy: 0.9669 - val_loss: 0.0046 - val_accuracy: 0.7500\n",
      "Epoch 29/50\n",
      "3411/3411 [==============================] - 19s 6ms/step - loss: 0.0884 - accuracy: 0.9687 - val_loss: 0.2634 - val_accuracy: 0.7500\n",
      "Epoch 30/50\n",
      "3411/3411 [==============================] - 19s 6ms/step - loss: 0.0914 - accuracy: 0.9678 - val_loss: 2.2542 - val_accuracy: 0.7500\n",
      "Epoch 31/50\n",
      "3411/3411 [==============================] - 19s 6ms/step - loss: 0.0980 - accuracy: 0.9680 - val_loss: 0.0181 - val_accuracy: 0.7500\n",
      "Epoch 32/50\n",
      "3411/3411 [==============================] - 19s 6ms/step - loss: 0.0774 - accuracy: 0.9725 - val_loss: 1.1458 - val_accuracy: 0.5833\n",
      "Epoch 33/50\n",
      "3411/3411 [==============================] - 19s 6ms/step - loss: 0.0701 - accuracy: 0.9734 - val_loss: 0.5708 - val_accuracy: 0.7500\n",
      "Epoch 34/50\n",
      "3411/3411 [==============================] - 19s 6ms/step - loss: 0.0800 - accuracy: 0.9720 - val_loss: 1.3914 - val_accuracy: 0.8333\n",
      "Epoch 35/50\n",
      "3411/3411 [==============================] - 19s 6ms/step - loss: 0.0834 - accuracy: 0.9734 - val_loss: 0.0385 - val_accuracy: 0.8333\n",
      "Epoch 36/50\n",
      "3411/3411 [==============================] - 19s 6ms/step - loss: 0.0886 - accuracy: 0.9698 - val_loss: 3.1281 - val_accuracy: 0.9167\n",
      "Epoch 37/50\n",
      "3411/3411 [==============================] - 19s 6ms/step - loss: 0.0823 - accuracy: 0.9743 - val_loss: 0.0518 - val_accuracy: 0.8333\n",
      "Epoch 38/50\n",
      "3411/3411 [==============================] - 19s 6ms/step - loss: 0.0629 - accuracy: 0.9802 - val_loss: 0.6212 - val_accuracy: 0.6667\n",
      "Epoch 39/50\n",
      "3411/3411 [==============================] - 19s 6ms/step - loss: 0.0636 - accuracy: 0.9803 - val_loss: 3.5763e-07 - val_accuracy: 0.8333\n",
      "Epoch 40/50\n",
      "3411/3411 [==============================] - 19s 6ms/step - loss: 0.0702 - accuracy: 0.9794 - val_loss: 1.2239e-05 - val_accuracy: 0.7500\n",
      "Epoch 41/50\n",
      "3411/3411 [==============================] - 19s 6ms/step - loss: 0.0529 - accuracy: 0.9843 - val_loss: 0.1637 - val_accuracy: 0.7500\n",
      "Epoch 42/50\n",
      "3411/3411 [==============================] - 19s 5ms/step - loss: 0.0605 - accuracy: 0.9810 - val_loss: 7.2977 - val_accuracy: 0.7500\n",
      "Epoch 43/50\n",
      "3411/3411 [==============================] - 19s 5ms/step - loss: 0.0615 - accuracy: 0.9805 - val_loss: 2.6706 - val_accuracy: 0.8333\n",
      "Epoch 44/50\n",
      "3411/3411 [==============================] - 19s 6ms/step - loss: 0.0498 - accuracy: 0.9836 - val_loss: 3.4219 - val_accuracy: 0.3333\n",
      "Epoch 45/50\n",
      "3411/3411 [==============================] - 19s 5ms/step - loss: 0.0618 - accuracy: 0.9803 - val_loss: 1.8060 - val_accuracy: 0.7500\n",
      "Epoch 46/50\n",
      "3411/3411 [==============================] - 18s 5ms/step - loss: 0.0630 - accuracy: 0.9803 - val_loss: 0.0155 - val_accuracy: 0.8333\n",
      "Epoch 47/50\n",
      "3411/3411 [==============================] - 21s 6ms/step - loss: 0.0479 - accuracy: 0.9847 - val_loss: 11.4247 - val_accuracy: 0.9167\n",
      "Epoch 48/50\n",
      "3411/3411 [==============================] - 19s 6ms/step - loss: 0.0554 - accuracy: 0.9845 - val_loss: 0.0512 - val_accuracy: 0.9167\n",
      "Epoch 49/50\n",
      "3411/3411 [==============================] - 19s 6ms/step - loss: 0.0563 - accuracy: 0.9843 - val_loss: 2.4739 - val_accuracy: 0.6667\n",
      "Epoch 50/50\n",
      "3411/3411 [==============================] - 19s 6ms/step - loss: 0.0537 - accuracy: 0.9831 - val_loss: 0.1006 - val_accuracy: 0.5833\n"
     ]
    }
   ],
   "source": [
    "# 모델 학습시키기\n",
    "\n",
    "hist=model.fit(train_generator, \n",
    "               #steps_per_epoch=3411, \n",
    "               epochs=50,\n",
    "               validation_data=val_generator, \n",
    "               validation_steps=4)  "
   ]
  },
  {
   "cell_type": "code",
   "execution_count": null,
   "metadata": {},
   "outputs": [],
   "source": []
  },
  {
   "cell_type": "code",
   "execution_count": 9,
   "metadata": {},
   "outputs": [
    {
     "name": "stdout",
     "output_type": "stream",
     "text": [
      "--Evaluate--\n",
      "accuracy: 83.33%\n"
     ]
    }
   ],
   "source": [
    "# 모델 평가\n",
    "\n",
    "print(\"--Evaluate--\")\n",
    "scores = model.evaluate_generator(test_generator, steps=4)\n",
    "print(\"%s: %.2f%%\" % (model.metrics_names[1], scores[1]*100))"
   ]
  },
  {
   "cell_type": "code",
   "execution_count": null,
   "metadata": {},
   "outputs": [],
   "source": []
  }
 ],
 "metadata": {
  "kernelspec": {
   "display_name": "Python 3",
   "language": "python",
   "name": "python3"
  },
  "language_info": {
   "codemirror_mode": {
    "name": "ipython",
    "version": 3
   },
   "file_extension": ".py",
   "mimetype": "text/x-python",
   "name": "python",
   "nbconvert_exporter": "python",
   "pygments_lexer": "ipython3",
   "version": "3.7.3"
  }
 },
 "nbformat": 4,
 "nbformat_minor": 2
}
