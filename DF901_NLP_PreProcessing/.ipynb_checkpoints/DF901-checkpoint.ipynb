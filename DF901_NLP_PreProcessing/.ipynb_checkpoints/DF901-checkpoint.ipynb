{
 "cells": [
  {
   "cell_type": "markdown",
   "metadata": {},
   "source": [
    "## 02. 알파벳을 한글로"
   ]
  },
  {
   "cell_type": "code",
   "execution_count": 1,
   "metadata": {},
   "outputs": [],
   "source": [
    "# Read a txt file\n",
    "file_name='/Users/hyunji/Dafit/DF901_NLP_PreProcessing/DF901_01_Data.txt'\n",
    "with open(file_name, 'r', encoding='utf-8') as fdata:\n",
    "    data = fdata.read()"
   ]
  },
  {
   "cell_type": "code",
   "execution_count": 2,
   "metadata": {},
   "outputs": [
    {
     "data": {
      "text/plain": [
       "dict_items([('A', '에이'), ('B', '비'), ('C', '시'), ('D', '디'), ('E', '이'), ('F', '에프'), ('G', '지'), ('H', '에이치'), ('I', '아이'), ('J', '제이'), ('K', '케이'), ('L', '엘'), ('M', '엠'), ('N', '엔'), ('O', '오'), ('P', '피'), ('Q', '큐'), ('R', '알'), ('S', '에스'), ('T', '티'), ('U', '유'), ('V', '브이'), ('W', '더블유'), ('X', '엑스'), ('Y', '와이'), ('Z', '지')])"
      ]
     },
     "execution_count": 2,
     "metadata": {},
     "output_type": "execute_result"
    }
   ],
   "source": [
    "# Read a xlsx file\n",
    "import pandas as pd\n",
    "import numpy as np\n",
    "\n",
    "data2 = pd.read_excel(\"/Users/hyunji/Dafit/DF901_NLP_PreProcessing/DF901_02_Data.xlsx\")\n",
    "ndata2 = np.transpose(data2)\n",
    "ndata2 = ndata2.to_dict(\"dict\")[0]\n",
    "ndata2.items()"
   ]
  },
  {
   "cell_type": "code",
   "execution_count": 3,
   "metadata": {},
   "outputs": [],
   "source": [
    "#함수\n",
    "def replace_all(text, dic):\n",
    "    for i, j in dic.items():\n",
    "        text = text.replace(i, j)\n",
    "    return text"
   ]
  },
  {
   "cell_type": "code",
   "execution_count": 4,
   "metadata": {},
   "outputs": [
    {
     "data": {
      "text/plain": [
       "\"뉴욕행 비행기를 예약하고 싶어요. 아이'디 엘아이케이이 티오 비오오케이 에이 에프엘아이지에이치티 티오 엔이더블유 와이오알케이. 편도인가요? 왕복인가요? 오엔이-더블유에이와이, 오알 알오유엔디-티알아이피? 왕복입니다. 알오유엔디-티알아이피 피엘이에이에스이. 좌석 등급은 무엇으로 하시겠어요? 더블유에이치아이시에이치 시엘에이에스에스 더블유오유엘디 와이오유 엘아이케이이? 일반석으로 부탁해요. 이시오엔오엠와이, 피엘이에이에스이.\""
      ]
     },
     "execution_count": 4,
     "metadata": {},
     "output_type": "execute_result"
    }
   ],
   "source": [
    "#적용\n",
    "import pandas as pd\n",
    "import numpy as np\n",
    "\n",
    "# original data\n",
    "file_name='/Users/hyunji/Dafit/DF901_NLP_PreProcessing/DF901_01_Data.txt'\n",
    "with open(file_name, 'r', encoding='utf-8') as fdata:\n",
    "    data = fdata.read()\n",
    "text = data.upper()\n",
    "\n",
    "# to replace\n",
    "data2 = pd.read_excel(\"/Users/hyunji/Dafit/DF901_NLP_PreProcessing/DF901_02_Data.xlsx\")\n",
    "ndata2 = np.transpose(data2)\n",
    "dic = ndata2.to_dict(\"dict\")[0]\n",
    "\n",
    "replace_all(text, dic)"
   ]
  }
 ],
 "metadata": {
  "kernelspec": {
   "display_name": "Python 3",
   "language": "python",
   "name": "python3"
  },
  "language_info": {
   "codemirror_mode": {
    "name": "ipython",
    "version": 3
   },
   "file_extension": ".py",
   "mimetype": "text/x-python",
   "name": "python",
   "nbconvert_exporter": "python",
   "pygments_lexer": "ipython3",
   "version": "3.7.3"
  }
 },
 "nbformat": 4,
 "nbformat_minor": 2
}
